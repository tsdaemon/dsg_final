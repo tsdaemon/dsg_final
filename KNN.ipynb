{
 "cells": [
  {
   "cell_type": "code",
   "execution_count": 1,
   "metadata": {
    "collapsed": true
   },
   "outputs": [],
   "source": [
    "import pandas as pd\n",
    "import itertools\n",
    "from sklearn.neighbors import KNeighborsRegressor, NearestNeighbors\n",
    "from dateutil.relativedelta import relativedelta\n",
    "from sklearn.metrics import mean_absolute_error\n",
    "import numpy as np\n",
    "%matplotlib inline"
   ]
  },
  {
   "cell_type": "code",
   "execution_count": 2,
   "metadata": {
    "collapsed": true
   },
   "outputs": [],
   "source": [
    "data = pd.read_csv('/dsg/demand_anonymized_20170802.csv', delimiter=';', parse_dates=[\"Month\"])\n",
    "eval = pd.read_csv('/dsg/eval.csv')"
   ]
  },
  {
   "cell_type": "code",
   "execution_count": 3,
   "metadata": {
    "collapsed": false
   },
   "outputs": [
    {
     "data": {
      "text/html": [
       "<div>\n",
       "<table border=\"1\" class=\"dataframe\">\n",
       "  <thead>\n",
       "    <tr style=\"text-align: right;\">\n",
       "      <th></th>\n",
       "      <th>SalOrg</th>\n",
       "      <th>Material</th>\n",
       "      <th>Month</th>\n",
       "      <th>OrderQty</th>\n",
       "    </tr>\n",
       "  </thead>\n",
       "  <tbody>\n",
       "    <tr>\n",
       "      <th>0</th>\n",
       "      <td>97LK</td>\n",
       "      <td>00IYcj</td>\n",
       "      <td>2012-05-01</td>\n",
       "      <td>2</td>\n",
       "    </tr>\n",
       "    <tr>\n",
       "      <th>1</th>\n",
       "      <td>97LK</td>\n",
       "      <td>00IYcj</td>\n",
       "      <td>2012-06-01</td>\n",
       "      <td>13</td>\n",
       "    </tr>\n",
       "    <tr>\n",
       "      <th>2</th>\n",
       "      <td>97LK</td>\n",
       "      <td>00IYcj</td>\n",
       "      <td>2012-07-01</td>\n",
       "      <td>1</td>\n",
       "    </tr>\n",
       "    <tr>\n",
       "      <th>3</th>\n",
       "      <td>97LK</td>\n",
       "      <td>00IYcj</td>\n",
       "      <td>2012-09-01</td>\n",
       "      <td>30</td>\n",
       "    </tr>\n",
       "    <tr>\n",
       "      <th>4</th>\n",
       "      <td>97LK</td>\n",
       "      <td>00IYcj</td>\n",
       "      <td>2012-11-01</td>\n",
       "      <td>1</td>\n",
       "    </tr>\n",
       "  </tbody>\n",
       "</table>\n",
       "</div>"
      ],
      "text/plain": [
       "  SalOrg Material      Month  OrderQty\n",
       "0   97LK   00IYcj 2012-05-01         2\n",
       "1   97LK   00IYcj 2012-06-01        13\n",
       "2   97LK   00IYcj 2012-07-01         1\n",
       "3   97LK   00IYcj 2012-09-01        30\n",
       "4   97LK   00IYcj 2012-11-01         1"
      ]
     },
     "execution_count": 3,
     "metadata": {},
     "output_type": "execute_result"
    }
   ],
   "source": [
    "# create aggregated by month series\n",
    "series = data.groupby([\"SalOrg\", \"Material\", \"Month\"])[\"OrderQty\"].sum().reset_index()\n",
    "series = series.sort_values(by=[\"SalOrg\", \"Material\", \"Month\"])\n",
    "series.head()"
   ]
  },
  {
   "cell_type": "code",
   "execution_count": 4,
   "metadata": {
    "collapsed": true
   },
   "outputs": [],
   "source": [
    "# fill empty\n",
    "eval_comb = eval[['Material', 'SalOrg']]\n",
    "eval_comb = list(set([tuple(x) for x in eval_comb.values]))\n",
    "\n",
    "comb = list(itertools.product(*[eval_comb, list(series['Month'].unique())]))\n",
    "comb = [(t[0], t[1], m) for t, m in comb]\n",
    "\n",
    "series2 = pd.DataFrame(comb, columns=['Material', 'SalOrg', 'Month'])\n",
    "series2 = series2.sort_values(by=['Material', 'SalOrg', 'Month' ])\n",
    "series2 = series2.merge(series, on=['Month', 'Material', 'SalOrg'], how='left')\n",
    "series2 = series2.fillna(0)"
   ]
  },
  {
   "cell_type": "code",
   "execution_count": 5,
   "metadata": {
    "collapsed": true
   },
   "outputs": [],
   "source": [
    "series2['OrderQtyLog'] = np.log1p(series2['OrderQty'])"
   ]
  },
  {
   "cell_type": "code",
   "execution_count": 6,
   "metadata": {
    "collapsed": false
   },
   "outputs": [
    {
     "data": {
      "text/html": [
       "<div>\n",
       "<table border=\"1\" class=\"dataframe\">\n",
       "  <thead>\n",
       "    <tr style=\"text-align: right;\">\n",
       "      <th></th>\n",
       "      <th>Material</th>\n",
       "      <th>SalOrg</th>\n",
       "      <th>Month</th>\n",
       "      <th>OrderQty</th>\n",
       "      <th>OrderQtyLog</th>\n",
       "      <th>OrderQtyLog(t-12)</th>\n",
       "      <th>OrderQtyLog(t-11)</th>\n",
       "      <th>OrderQtyLog(t-10)</th>\n",
       "      <th>OrderQtyLog(t-9)</th>\n",
       "      <th>OrderQtyLog(t-8)</th>\n",
       "      <th>OrderQtyLog(t-7)</th>\n",
       "      <th>OrderQtyLog(t-6)</th>\n",
       "      <th>OrderQtyLog(t-5)</th>\n",
       "      <th>OrderQtyLog(t-4)</th>\n",
       "      <th>OrderQtyLog(t-3)</th>\n",
       "      <th>OrderQtyLog(t-2)</th>\n",
       "      <th>OrderQtyLog(t-1)</th>\n",
       "      <th>OrderQtyLog(t+1)</th>\n",
       "      <th>OrderQtyLog(t+2)</th>\n",
       "    </tr>\n",
       "  </thead>\n",
       "  <tbody>\n",
       "    <tr>\n",
       "      <th>0</th>\n",
       "      <td>00GB1f</td>\n",
       "      <td>yqSu</td>\n",
       "      <td>2012-01-01</td>\n",
       "      <td>0.0</td>\n",
       "      <td>0.000000</td>\n",
       "      <td>NaN</td>\n",
       "      <td>NaN</td>\n",
       "      <td>NaN</td>\n",
       "      <td>NaN</td>\n",
       "      <td>NaN</td>\n",
       "      <td>NaN</td>\n",
       "      <td>NaN</td>\n",
       "      <td>NaN</td>\n",
       "      <td>NaN</td>\n",
       "      <td>NaN</td>\n",
       "      <td>NaN</td>\n",
       "      <td>NaN</td>\n",
       "      <td>0.000000</td>\n",
       "      <td>0.693147</td>\n",
       "    </tr>\n",
       "    <tr>\n",
       "      <th>1</th>\n",
       "      <td>00GB1f</td>\n",
       "      <td>yqSu</td>\n",
       "      <td>2012-02-01</td>\n",
       "      <td>0.0</td>\n",
       "      <td>0.000000</td>\n",
       "      <td>NaN</td>\n",
       "      <td>NaN</td>\n",
       "      <td>NaN</td>\n",
       "      <td>NaN</td>\n",
       "      <td>NaN</td>\n",
       "      <td>NaN</td>\n",
       "      <td>NaN</td>\n",
       "      <td>NaN</td>\n",
       "      <td>NaN</td>\n",
       "      <td>NaN</td>\n",
       "      <td>NaN</td>\n",
       "      <td>0.000000</td>\n",
       "      <td>0.693147</td>\n",
       "      <td>1.386294</td>\n",
       "    </tr>\n",
       "    <tr>\n",
       "      <th>2</th>\n",
       "      <td>00GB1f</td>\n",
       "      <td>yqSu</td>\n",
       "      <td>2012-03-01</td>\n",
       "      <td>1.0</td>\n",
       "      <td>0.693147</td>\n",
       "      <td>NaN</td>\n",
       "      <td>NaN</td>\n",
       "      <td>NaN</td>\n",
       "      <td>NaN</td>\n",
       "      <td>NaN</td>\n",
       "      <td>NaN</td>\n",
       "      <td>NaN</td>\n",
       "      <td>NaN</td>\n",
       "      <td>NaN</td>\n",
       "      <td>NaN</td>\n",
       "      <td>0.000000</td>\n",
       "      <td>0.000000</td>\n",
       "      <td>1.386294</td>\n",
       "      <td>1.098612</td>\n",
       "    </tr>\n",
       "    <tr>\n",
       "      <th>3</th>\n",
       "      <td>00GB1f</td>\n",
       "      <td>yqSu</td>\n",
       "      <td>2012-04-01</td>\n",
       "      <td>3.0</td>\n",
       "      <td>1.386294</td>\n",
       "      <td>NaN</td>\n",
       "      <td>NaN</td>\n",
       "      <td>NaN</td>\n",
       "      <td>NaN</td>\n",
       "      <td>NaN</td>\n",
       "      <td>NaN</td>\n",
       "      <td>NaN</td>\n",
       "      <td>NaN</td>\n",
       "      <td>NaN</td>\n",
       "      <td>0.0</td>\n",
       "      <td>0.000000</td>\n",
       "      <td>0.693147</td>\n",
       "      <td>1.098612</td>\n",
       "      <td>0.693147</td>\n",
       "    </tr>\n",
       "    <tr>\n",
       "      <th>4</th>\n",
       "      <td>00GB1f</td>\n",
       "      <td>yqSu</td>\n",
       "      <td>2012-05-01</td>\n",
       "      <td>2.0</td>\n",
       "      <td>1.098612</td>\n",
       "      <td>NaN</td>\n",
       "      <td>NaN</td>\n",
       "      <td>NaN</td>\n",
       "      <td>NaN</td>\n",
       "      <td>NaN</td>\n",
       "      <td>NaN</td>\n",
       "      <td>NaN</td>\n",
       "      <td>NaN</td>\n",
       "      <td>0.0</td>\n",
       "      <td>0.0</td>\n",
       "      <td>0.693147</td>\n",
       "      <td>1.386294</td>\n",
       "      <td>0.693147</td>\n",
       "      <td>1.386294</td>\n",
       "    </tr>\n",
       "  </tbody>\n",
       "</table>\n",
       "</div>"
      ],
      "text/plain": [
       "  Material SalOrg      Month  OrderQty  OrderQtyLog  OrderQtyLog(t-12)  \\\n",
       "0   00GB1f   yqSu 2012-01-01       0.0     0.000000                NaN   \n",
       "1   00GB1f   yqSu 2012-02-01       0.0     0.000000                NaN   \n",
       "2   00GB1f   yqSu 2012-03-01       1.0     0.693147                NaN   \n",
       "3   00GB1f   yqSu 2012-04-01       3.0     1.386294                NaN   \n",
       "4   00GB1f   yqSu 2012-05-01       2.0     1.098612                NaN   \n",
       "\n",
       "   OrderQtyLog(t-11)  OrderQtyLog(t-10)  OrderQtyLog(t-9)  OrderQtyLog(t-8)  \\\n",
       "0                NaN                NaN               NaN               NaN   \n",
       "1                NaN                NaN               NaN               NaN   \n",
       "2                NaN                NaN               NaN               NaN   \n",
       "3                NaN                NaN               NaN               NaN   \n",
       "4                NaN                NaN               NaN               NaN   \n",
       "\n",
       "   OrderQtyLog(t-7)  OrderQtyLog(t-6)  OrderQtyLog(t-5)  OrderQtyLog(t-4)  \\\n",
       "0               NaN               NaN               NaN               NaN   \n",
       "1               NaN               NaN               NaN               NaN   \n",
       "2               NaN               NaN               NaN               NaN   \n",
       "3               NaN               NaN               NaN               NaN   \n",
       "4               NaN               NaN               NaN               0.0   \n",
       "\n",
       "   OrderQtyLog(t-3)  OrderQtyLog(t-2)  OrderQtyLog(t-1)  OrderQtyLog(t+1)  \\\n",
       "0               NaN               NaN               NaN          0.000000   \n",
       "1               NaN               NaN          0.000000          0.693147   \n",
       "2               NaN          0.000000          0.000000          1.386294   \n",
       "3               0.0          0.000000          0.693147          1.098612   \n",
       "4               0.0          0.693147          1.386294          0.693147   \n",
       "\n",
       "   OrderQtyLog(t+2)  \n",
       "0          0.693147  \n",
       "1          1.386294  \n",
       "2          1.098612  \n",
       "3          0.693147  \n",
       "4          1.386294  "
      ]
     },
     "execution_count": 6,
     "metadata": {},
     "output_type": "execute_result"
    }
   ],
   "source": [
    "# create lagged features\n",
    "def lag_feature(df, colname, lag, adv):\n",
    "    cols_lagged = []\n",
    "    for i in range(lag, 0, -1):\n",
    "        col_lagged = '{}(t-{})'.format(colname, i)\n",
    "        df[col_lagged] = df.groupby(by=['SalOrg', 'Material'])[colname].shift(i)\n",
    "        cols_lagged.append(col_lagged)\n",
    "    cols_adv = []\n",
    "    for i in range(1, adv):\n",
    "        col_adv = '{}(t+{})'.format(colname, i)\n",
    "        df[col_adv] = df.groupby(by=['SalOrg', 'Material'])[colname].shift(-i)\n",
    "        cols_adv.append(col_adv) \n",
    "        \n",
    "    return df, cols_lagged, cols_adv\n",
    "\n",
    "series, lagged, adv = lag_feature(series2, 'OrderQtyLog', 12, 3)\n",
    "series.head()"
   ]
  },
  {
   "cell_type": "code",
   "execution_count": null,
   "metadata": {
    "collapsed": true
   },
   "outputs": [],
   "source": [
    "# validation folds\n",
    "def create_validation(data, date, m):\n",
    "    return data[(data[\"Month\"] > pd.to_datetime(date) - relativedelta(months=m))&\n",
    "                (data[\"Month\"] < pd.to_datetime(date))].index, data[(data[\"Month\"] >= pd.to_datetime(date)) & \n",
    "                (data[\"Month\"] < pd.to_datetime(date) + relativedelta(months=3))].index\n",
    "\n",
    "validation_months = ['2016-08-01', '2016-09-01', '2016-10-01', '2016-11-01']\n",
    "\n",
    "folds = []\n",
    "for month in validation_months:\n",
    "    folds.append(create_validation(series, month, 4))"
   ]
  },
  {
   "cell_type": "code",
   "execution_count": null,
   "metadata": {
    "collapsed": false
   },
   "outputs": [
    {
     "name": "stdout",
     "output_type": "stream",
     "text": [
      "Fold error: 12.11530578037622\n"
     ]
    }
   ],
   "source": [
    "# knn model\n",
    "nn = 3\n",
    "all_errors = []\n",
    "\n",
    "for fold in folds:   \n",
    "    train = series.loc[fold[0]]\n",
    "    test = series.loc[fold[1]]\n",
    "    \n",
    "    train_x = train[lagged]\n",
    "    train_y = train[['OrderQtyLog'] + adv]\n",
    "    test_x = test[lagged]\n",
    "    test_y = test[['OrderQtyLog'] + adv]\n",
    "    \n",
    "    model = KNeighborsRegressor(n_neighbors=nn, metric='canberra', n_jobs=-1).fit(train_x, train_y)\n",
    "    test_y_predicted = model.predict(test_x)\n",
    "    \n",
    "    error = mean_absolute_error(np.expm1(test_y), np.expm1(test_y_predicted))\n",
    "    print('Fold error: {}'.format(error))\n",
    "    \n",
    "    all_errors.append(error)\n",
    "    \n",
    "np.mean(all_errors)"
   ]
  },
  {
   "cell_type": "code",
   "execution_count": null,
   "metadata": {
    "collapsed": true
   },
   "outputs": [],
   "source": [
    "# all dataset \n",
    "train_x = test[lagged]\n",
    "train_y = test[['OrderQtyLog'] + adv]\n",
    "model = KNeighborsRegressor(n_neighbors=nn, metric='canberra', n_jobs=-1).fit(train_x, train_y)"
   ]
  },
  {
   "cell_type": "code",
   "execution_count": null,
   "metadata": {
    "collapsed": true
   },
   "outputs": [],
   "source": [
    "lagged_final = lagged\n",
    "lagged_final.append('OrderQtyLog')\n",
    "lagged_final.pop(0)\n",
    "lagged_final"
   ]
  },
  {
   "cell_type": "code",
   "execution_count": null,
   "metadata": {
    "collapsed": true
   },
   "outputs": [],
   "source": [
    "test_i = series[series[\"Month\"]==pd.to_datetime('2017-03-01')].index\n",
    "\n",
    "test_x = series.loc[test_i][lagged_final]\n",
    "test_prediction = model.predict(test_x)\n",
    "prediction = np.expm1(test_prediction)\n",
    "prediction"
   ]
  },
  {
   "cell_type": "code",
   "execution_count": null,
   "metadata": {
    "collapsed": true
   },
   "outputs": [],
   "source": [
    "tst = series.loc[test_i].copy()\n",
    "tst['OrderQty(t+1)'] = prediction.T[0]\n",
    "tst['OrderQty(t+2)'] = prediction.T[1]\n",
    "tst['OrderQty(t+3)'] = prediction.T[2]"
   ]
  },
  {
   "cell_type": "code",
   "execution_count": null,
   "metadata": {
    "collapsed": true
   },
   "outputs": [],
   "source": [
    "ml = pd.melt(tst, id_vars=['Material', 'SalOrg'], value_vars=['OrderQty(t+1)', 'OrderQty(t+2)','OrderQty(t+3)'])"
   ]
  },
  {
   "cell_type": "code",
   "execution_count": null,
   "metadata": {
    "collapsed": true
   },
   "outputs": [],
   "source": [
    "ml['date'] = ml.variable.replace({'OrderQty(t+1)':'2017-04', 'OrderQty(t+2)':'2017-05', 'OrderQty(t+3)':'2017-06'})\n",
    "del ml['variable']\n",
    "ml.head()"
   ]
  },
  {
   "cell_type": "code",
   "execution_count": null,
   "metadata": {
    "collapsed": true
   },
   "outputs": [],
   "source": [
    "result = eval.merge(ml, on=['Material', 'SalOrg', 'date'])\n",
    "result"
   ]
  },
  {
   "cell_type": "code",
   "execution_count": null,
   "metadata": {
    "collapsed": true
   },
   "outputs": [],
   "source": [
    "result['demand'] = result['value']\n",
    "result[['ID', 'demand']].to_csv('knn6.csv', index=False)"
   ]
  }
 ],
 "metadata": {
  "kernelspec": {
   "display_name": "Python 3",
   "language": "python",
   "name": "python3"
  },
  "language_info": {
   "codemirror_mode": {
    "name": "ipython",
    "version": 3
   },
   "file_extension": ".py",
   "mimetype": "text/x-python",
   "name": "python",
   "nbconvert_exporter": "python",
   "pygments_lexer": "ipython3",
   "version": "3.5.2"
  }
 },
 "nbformat": 4,
 "nbformat_minor": 2
}
